import pandas as pd
import matplotlib.pyplot as plt
import seaborn as sns
import warnings

warnings.filterwarnings('ignore')

# Set color palette
sns.set_palette(['#FF5733', '#337AB7', '#28A745'])  # Orange, Blue, Green

# Load dataset
DataFrame = pd.read_csv('/Data/Sets/Virtual_Reality_in_Education_Impact.csv')

# Display the first few rows of the dataset
DataFrame.head(10)