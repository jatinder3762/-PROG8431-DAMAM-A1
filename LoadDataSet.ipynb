{
 "cells": [
  {
   "cell_type": "code",
   "execution_count": 1,
   "id": "6b01fcfd",
   "metadata": {},
   "outputs": [
    {
     "name": "stdout",
     "output_type": "stream",
     "text": [
      "  Student_ID  Age             Gender    Grade_Level Field_of_Study  \\\n",
      "0   STUD0001   13         Non-binary   Postgraduate        Science   \n",
      "1   STUD0002   16         Non-binary  Undergraduate       Medicine   \n",
      "2   STUD0003   15  Prefer not to say    High School        Science   \n",
      "3   STUD0004   24             Female   Postgraduate    Engineering   \n",
      "4   STUD0005   22         Non-binary  Undergraduate           Arts   \n",
      "\n",
      "  Usage_of_VR_in_Education  Hours_of_VR_Usage_Per_Week  Engagement_Level  \\\n",
      "0                       No                           6                 1   \n",
      "1                       No                           6                 1   \n",
      "2                       No                           4                 5   \n",
      "3                      Yes                           2                 4   \n",
      "4                      Yes                          10                 3   \n",
      "\n",
      "  Improvement_in_Learning_Outcomes           Subject  \\\n",
      "0                              Yes  Computer Science   \n",
      "1                              Yes              Math   \n",
      "2                              Yes               Art   \n",
      "3                               No         Economics   \n",
      "4                               No               Art   \n",
      "\n",
      "  Instructor_VR_Proficiency  Perceived_Effectiveness_of_VR  \\\n",
      "0              Intermediate                              3   \n",
      "1                  Beginner                              2   \n",
      "2                  Advanced                              5   \n",
      "3                  Beginner                              5   \n",
      "4                  Beginner                              4   \n",
      "\n",
      "  Access_to_VR_Equipment  Impact_on_Creativity Stress_Level_with_VR_Usage  \\\n",
      "0                    Yes                     5                       High   \n",
      "1                    Yes                     3                        Low   \n",
      "2                    Yes                     2                        Low   \n",
      "3                     No                     3                       High   \n",
      "4                    Yes                     1                     Medium   \n",
      "\n",
      "  Collaboration_with_Peers_via_VR Feedback_from_Educators_on_VR  \\\n",
      "0                              No                       Neutral   \n",
      "1                             Yes                      Positive   \n",
      "2                             Yes                       Neutral   \n",
      "3                              No                       Neutral   \n",
      "4                              No                      Negative   \n",
      "\n",
      "  Interest_in_Continuing_VR_Based_Learning         Region  \\\n",
      "0                                       No  South America   \n",
      "1                                       No        Oceania   \n",
      "2                                      Yes        Oceania   \n",
      "3                                       No         Europe   \n",
      "4                                      Yes  North America   \n",
      "\n",
      "  School_Support_for_VR_in_Curriculum  \n",
      "0                                  No  \n",
      "1                                  No  \n",
      "2                                  No  \n",
      "3                                 Yes  \n",
      "4                                 Yes  \n"
     ]
    }
   ],
   "source": [
    "import pandas as pd\n",
    "\n",
    "# Define the file path\n",
    "file_path = r'.\\DataSet\\Virtual_Reality_in_Education_Impact.csv'\n",
    "\n",
    "# Read the CSV file into a DataFrame\n",
    "df = pd.read_csv(file_path)\n",
    "\n",
    "# Display the first few rows\n",
    "print(df.head())"
   ]
  },
  {
   "cell_type": "code",
   "execution_count": null,
   "id": "c17ef331-55cd-46a0-bdbf-8b4d6f60b32a",
   "metadata": {},
   "outputs": [],
   "source": []
  },
  {
   "cell_type": "code",
   "execution_count": null,
   "id": "c09de041-f429-427a-a86a-c348984114ce",
   "metadata": {},
   "outputs": [],
   "source": []
  },
  {
   "cell_type": "code",
   "execution_count": null,
   "id": "66b74ac6-8211-4b0b-92c1-0b4f63332f68",
   "metadata": {},
   "outputs": [],
   "source": []
  }
 ],
 "metadata": {
  "kernelspec": {
   "display_name": "Python 3 (ipykernel)",
   "language": "python",
   "name": "python3"
  },
  "language_info": {
   "codemirror_mode": {
    "name": "ipython",
    "version": 3
   },
   "file_extension": ".py",
   "mimetype": "text/x-python",
   "name": "python",
   "nbconvert_exporter": "python",
   "pygments_lexer": "ipython3",
   "version": "3.9.7"
  }
 },
 "nbformat": 4,
 "nbformat_minor": 5
}
